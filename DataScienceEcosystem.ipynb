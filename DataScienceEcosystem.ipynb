{
 "cells": [
  {
   "cell_type": "markdown",
   "id": "93e58251-ca5f-4d90-bf93-6024830d432e",
   "metadata": {},
   "source": [
    "# Data Science Tools and Ecosystem #"
   ]
  },
  {
   "cell_type": "markdown",
   "id": "e5d2e741-5251-4e86-bfaf-c71248d35672",
   "metadata": {},
   "source": [
    "In this notebook, Data Science Tools and Ecosystem are summarized."
   ]
  },
  {
   "cell_type": "markdown",
   "id": "5243655e-050b-4644-9bc5-dc64af5478df",
   "metadata": {},
   "source": [
    "**Objectives:**\n",
    "- Languages of Data Science\n",
    "- Libraries for Data Science\n",
    "- Data Sets - Powering Data Science\n",
    "- Introduction to R and R Studio\n",
    "- Overview of Git/GitHub"
   ]
  },
  {
   "cell_type": "markdown",
   "id": "30a5f1c3-13af-494a-9476-2d8cb312e448",
   "metadata": {},
   "source": [
    "Some of the popular languages that Data Scientists use are:\n",
    "1. Python\n",
    "2. R\n",
    "3. Julia"
   ]
  },
  {
   "cell_type": "markdown",
   "id": "19c7eca7-9ef5-46f9-9f50-ad2812a4e60c",
   "metadata": {},
   "source": [
    "Some of the commonly used libraries used by Data Scientists include:\n",
    "1. Pandas\n",
    "2. NumPy\n",
    "3. SciKit-Learn\n"
   ]
  },
  {
   "cell_type": "markdown",
   "id": "3ab8cf35-c674-477b-ad3e-26c0761058ad",
   "metadata": {},
   "source": [
    "| Data Science Tools |\n",
    "| --- | \n",
    "| Apache Spark | \n",
    "| Jupyter Notebook | \n",
    "| R | "
   ]
  },
  {
   "cell_type": "markdown",
   "id": "0ac76044-3e51-4bec-ab24-79201c51c4c9",
   "metadata": {},
   "source": [
    "### Below are a few examples of evaluating arithmetic expressions in Python ###"
   ]
  },
  {
   "cell_type": "code",
   "execution_count": 16,
   "id": "c61397d2-7dfb-4cbc-ae0c-240c5d835f43",
   "metadata": {},
   "outputs": [
    {
     "data": {
      "text/plain": [
       "17"
      ]
     },
     "execution_count": 16,
     "metadata": {},
     "output_type": "execute_result"
    }
   ],
   "source": [
    "# This is a simple arithmetic expression to multiply then add integers\n",
    "(3*4)+5"
   ]
  },
  {
   "cell_type": "code",
   "execution_count": 18,
   "id": "b2e77ce6-d575-41ea-b414-f37811e2e8ce",
   "metadata": {},
   "outputs": [
    {
     "data": {
      "text/plain": [
       "3.3333333333333335"
      ]
     },
     "execution_count": 18,
     "metadata": {},
     "output_type": "execute_result"
    }
   ],
   "source": [
    "# This will convert 200 minutes to hours by dividing by 60\n",
    "200/60"
   ]
  },
  {
   "cell_type": "markdown",
   "id": "dd2374ea-da0e-4130-9f62-3628c2a6beb3",
   "metadata": {},
   "source": [
    "## Author ##\n",
    "Alyson Harding"
   ]
  },
  {
   "cell_type": "code",
   "execution_count": null,
   "id": "3075867f-5b64-4b05-a499-ea61a2bfefbb",
   "metadata": {},
   "outputs": [],
   "source": []
  }
 ],
 "metadata": {
  "kernelspec": {
   "display_name": "Python 3 (ipykernel)",
   "language": "python",
   "name": "python3"
  },
  "language_info": {
   "codemirror_mode": {
    "name": "ipython",
    "version": 3
   },
   "file_extension": ".py",
   "mimetype": "text/x-python",
   "name": "python",
   "nbconvert_exporter": "python",
   "pygments_lexer": "ipython3",
   "version": "3.12.7"
  }
 },
 "nbformat": 4,
 "nbformat_minor": 5
}
